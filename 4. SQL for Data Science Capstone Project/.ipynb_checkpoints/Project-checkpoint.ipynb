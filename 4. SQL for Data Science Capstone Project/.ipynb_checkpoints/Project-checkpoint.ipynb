{
 "cells": [
  {
   "cell_type": "code",
   "execution_count": null,
   "id": "cd29949d",
   "metadata": {},
   "outputs": [],
   "source": [
    "import pandas as pd\n",
    "import numpy as np"
   ]
  },
  {
   "cell_type": "code",
   "execution_count": null,
   "id": "1b844a28",
   "metadata": {},
   "outputs": [],
   "source": [
    "non_regions = pd.read_csv('SportsStats/noc_regions.csv')\n",
    "non_regions.head()"
   ]
  },
  {
   "cell_type": "code",
   "execution_count": null,
   "id": "f65492a0",
   "metadata": {
    "scrolled": true
   },
   "outputs": [],
   "source": [
    "non_regions.shape"
   ]
  },
  {
   "cell_type": "code",
   "execution_count": null,
   "id": "3a38a027",
   "metadata": {},
   "outputs": [],
   "source": [
    "non_regions.info()"
   ]
  },
  {
   "cell_type": "code",
   "execution_count": null,
   "id": "bf32ce0a",
   "metadata": {},
   "outputs": [],
   "source": [
    "athlete_events = pd.read_csv('SportsStats/athlete_events.csv')\n",
    "athlete_events.head()"
   ]
  },
  {
   "cell_type": "code",
   "execution_count": null,
   "id": "b07d3f62",
   "metadata": {},
   "outputs": [],
   "source": [
    "athlete_events.shape"
   ]
  },
  {
   "cell_type": "code",
   "execution_count": null,
   "id": "a0efc653",
   "metadata": {},
   "outputs": [],
   "source": [
    "athlete_events.info()"
   ]
  },
  {
   "cell_type": "code",
   "execution_count": null,
   "id": "765707e0",
   "metadata": {},
   "outputs": [],
   "source": [
    "athlete_events['Year'] = pd.to_datetime(athlete_events['Year'], format='%Y')\n",
    "\n",
    "# extract only the year component from the datetime column\n",
    "athlete_events['Year1'] = athlete_events['Year'].dt.year\n",
    "athlete_events.head()"
   ]
  },
  {
   "cell_type": "code",
   "execution_count": null,
   "id": "4bcce4e3",
   "metadata": {},
   "outputs": [],
   "source": [
    "from pandasql import sqldf\n",
    "pysqldf = lambda q: sqldf(q,globals())"
   ]
  },
  {
   "cell_type": "code",
   "execution_count": null,
   "id": "704874dd",
   "metadata": {},
   "outputs": [],
   "source": [
    "pip install pandasql"
   ]
  },
  {
   "cell_type": "code",
   "execution_count": null,
   "id": "4959060f",
   "metadata": {},
   "outputs": [],
   "source": []
  }
 ],
 "metadata": {
  "kernelspec": {
   "display_name": "Python 3 (ipykernel)",
   "language": "python",
   "name": "python3"
  },
  "language_info": {
   "codemirror_mode": {
    "name": "ipython",
    "version": 3
   },
   "file_extension": ".py",
   "mimetype": "text/x-python",
   "name": "python",
   "nbconvert_exporter": "python",
   "pygments_lexer": "ipython3",
   "version": "3.9.7"
  }
 },
 "nbformat": 4,
 "nbformat_minor": 5
}
